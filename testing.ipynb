{
 "cells": [
  {
   "cell_type": "code",
   "execution_count": null,
   "id": "d61b94df-0047-4cfb-86cc-f7ee6cc4eb48",
   "metadata": {},
   "outputs": [],
   "source": [
    "import numpy as np\n",
    "import pandas as pd\n",
    "import seaborn as sb\n",
    "\n",
    "data = pd.read_csv('original_data.csv');\n",
    "data.to_csv('modified.csv', float_format='%.3f')"
   ]
  },
  {
   "cell_type": "code",
   "execution_count": null,
   "id": "c2be77ab-43e9-4b1d-a3de-e684fe0c5283",
   "metadata": {},
   "outputs": [],
   "source": [
    "sb.regplot(x='SL', y='PHP', data = data)\n",
    "\n",
    "# change the name of the language in the Y axis and note the results \n",
    "# if any results match with the outlined 4 cases make a note of it and update it in the README.md file"
   ]
  }
 ],
 "metadata": {
  "kernelspec": {
   "display_name": "Python 3 (ipykernel)",
   "language": "python",
   "name": "python3"
  },
  "language_info": {
   "codemirror_mode": {
    "name": "ipython",
    "version": 3
   },
   "file_extension": ".py",
   "mimetype": "text/x-python",
   "name": "python",
   "nbconvert_exporter": "python",
   "pygments_lexer": "ipython3",
   "version": "3.11.4"
  }
 },
 "nbformat": 4,
 "nbformat_minor": 5
}
